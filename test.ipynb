{
 "cells": [
  {
   "cell_type": "markdown",
   "metadata": {},
   "source": [
    "## File structure\n",
    "accident\n",
    "## Steps\n",
    "### General\n",
    "对于一个事故详情页面：\n",
    "    从正文借助关键词判断是否所需事故，标记优先级。高优先级后续分析pdf可参考\n",
    "    下载pdf以便后续分析\n",
    "\n",
    "pdf分析：\n",
    "提取文字和表格文字，通过关键词爬取所需属性。\n",
    "由于pdf中表述不一定统一，每个属性可以提取为：包含关键词的上下文。这样的上下文可能有多个，均可列出，最后人工提取。\n",
    "如果发现高度规律，再进行自动提取。\n",
    "    \n",
    "### Detailed\n",
    "Start at \"按事故类型分类\"\n",
    "for: each accident type, \n",
    "    simulte click to load coresponding page\n",
    "    while: \"active\" != \"last\".total\n",
    "        get article list\n",
    "        for: each article in article list\n",
    "            get href\n",
    "            jumpto href\n",
    "            at new page:\n",
    "            get body text. find keywords by regex. key words: 火灾、燃烧、火、爆炸、泄漏、渗漏 etc.\n",
    "            get pdf links, download pdf"
   ]
  },
  {
   "cell_type": "code",
   "execution_count": 2,
   "metadata": {},
   "outputs": [],
   "source": [
    "\n",
    "# basic info\n",
    "# user_agent：\n",
    "# Mozilla/5.0 (Windows NT 10.0; Win64; x64) AppleWebKit/537.36 (KHTML, like Gecko) Chrome/105.0.0.0 Safari/537.36 Edg/105.0.1343.27\n",
    "# chrome_path：\n",
    "# C:\\Program Files\\Google\\Chrome\\Application\n",
    "# base_url:\n",
    "# https://www.msa.gov.cn/html/hxaq/sgjx/\n",
    "\n",
    "from selenium import webdriver\n",
    "from selenium.webdriver.common.by import By\n",
    "import urllib\n",
    "import logging\n",
    "import os\n",
    "import re\n",
    "from retry import retry\n",
    "\n",
    "\n",
    "# url = \"https://www.msa.gov.cn/public/documents/document/mdqz/otex/~edisp/20220908043911094.pdf\"\n",
    "# file_dir = os.getcwd()\n",
    "# file_name = url.split(\"/\")[-1]\n",
    "# file_path = os.path.join(file_dir, file_name)\n",
    "# urllib.request.urlretrieve(url, file_path)\n"
   ]
  },
  {
   "cell_type": "code",
   "execution_count": 2,
   "metadata": {},
   "outputs": [],
   "source": [
    "class RetryCounter():\n",
    "    def __init__(self, tries = 3, exception_types = [Exception], logger = None) -> None:\n",
    "        self.tries = tries\n",
    "        self.exception_types = exception_types\n",
    "        if logger is None:\n",
    "            self.logger = logging.getLogger()\n",
    "        else:\n",
    "            self.logger = logger\n",
    "        pass\n",
    "\n",
    "    def exception_handler(self, exception):\n",
    "        if self.tries == 0:\n",
    "            self.logger.warning(f\"{str(exception)}\")\n",
    "            return True\n",
    "        flag_catch = False\n",
    "        for elem in self.exception_types:\n",
    "            if isinstance(exception, elem):\n",
    "                flag_catch = True\n",
    "                break\n",
    "        if not flag_catch:\n",
    "            self.logger.warning(f\"{str(exception)}\")\n",
    "            return True\n",
    "        self.tries -= 1\n",
    "        return False\n",
    "\n",
    "def log_error(exception):\n",
    "    logger = logging.getLogger(\"errorlog\")\n",
    "    logger.warning()\n",
    "\n",
    "def set_logger(log_file_path, logger):\n",
    "    logFormatter = logging.Formatter(\"%(asctime)s %(message)s\",\n",
    "                                            \"%m-%d %H:%M:%S\")\n",
    "    consoleHandler = logging.StreamHandler()\n",
    "    consoleHandler.setFormatter(logFormatter)\n",
    "    logger.addHandler(consoleHandler)\n",
    "    \n",
    "    fileHandler = logging.FileHandler(log_file_path)\n",
    "    fileHandler.setFormatter(logFormatter)\n",
    "    logger.addHandler(fileHandler)"
   ]
  },
  {
   "cell_type": "code",
   "execution_count": 3,
   "metadata": {},
   "outputs": [
    {
     "name": "stderr",
     "output_type": "stream",
     "text": [
      "09-12 16:19:04 ValueError: url info whatever in __main__.func, retrying in 0 seconds...\n",
      "09-12 16:19:04 ValueError: url info whatever in __main__.func, retrying in 0 seconds...\n"
     ]
    },
    {
     "ename": "ValueError",
     "evalue": "url info whatever",
     "output_type": "error",
     "traceback": [
      "\u001b[1;31m---------------------------------------------------------------------------\u001b[0m",
      "\u001b[1;31mValueError\u001b[0m                                Traceback (most recent call last)",
      "Cell \u001b[1;32mIn [3], line 10\u001b[0m\n\u001b[0;32m      6\u001b[0m \u001b[38;5;129m@retry\u001b[39m(tries\u001b[38;5;241m=\u001b[39m\u001b[38;5;241m3\u001b[39m, logger\u001b[38;5;241m=\u001b[39mlogger)\n\u001b[0;32m      7\u001b[0m \u001b[38;5;28;01mdef\u001b[39;00m \u001b[38;5;21mfunc\u001b[39m():\n\u001b[0;32m      8\u001b[0m     \u001b[38;5;28;01mraise\u001b[39;00m \u001b[38;5;167;01mValueError\u001b[39;00m(\u001b[38;5;124m\"\u001b[39m\u001b[38;5;124murl info whatever\u001b[39m\u001b[38;5;124m\"\u001b[39m)\n\u001b[1;32m---> 10\u001b[0m \u001b[43mfunc\u001b[49m\u001b[43m(\u001b[49m\u001b[43m)\u001b[49m\n",
      "File \u001b[1;32md:\\ProgramData\\Anaconda3\\envs\\WebCrawler\\lib\\site-packages\\decorator.py:232\u001b[0m, in \u001b[0;36mdecorate.<locals>.fun\u001b[1;34m(*args, **kw)\u001b[0m\n\u001b[0;32m    230\u001b[0m \u001b[39mif\u001b[39;00m \u001b[39mnot\u001b[39;00m kwsyntax:\n\u001b[0;32m    231\u001b[0m     args, kw \u001b[39m=\u001b[39m fix(args, kw, sig)\n\u001b[1;32m--> 232\u001b[0m \u001b[39mreturn\u001b[39;00m caller(func, \u001b[39m*\u001b[39;49m(extras \u001b[39m+\u001b[39;49m args), \u001b[39m*\u001b[39;49m\u001b[39m*\u001b[39;49mkw)\n",
      "File \u001b[1;32md:\\ProgramData\\Anaconda3\\envs\\WebCrawler\\lib\\site-packages\\retry\\api.py:90\u001b[0m, in \u001b[0;36mretry.<locals>.retry_decorator\u001b[1;34m(f, *fargs, **fkwargs)\u001b[0m\n\u001b[0;32m     88\u001b[0m args \u001b[39m=\u001b[39m fargs \u001b[39mif\u001b[39;00m fargs \u001b[39melse\u001b[39;00m \u001b[39mlist\u001b[39m()\n\u001b[0;32m     89\u001b[0m kwargs \u001b[39m=\u001b[39m fkwargs \u001b[39mif\u001b[39;00m fkwargs \u001b[39melse\u001b[39;00m \u001b[39mdict\u001b[39m()\n\u001b[1;32m---> 90\u001b[0m \u001b[39mreturn\u001b[39;00m __retry_internal(partial(f, \u001b[39m*\u001b[39;49margs, \u001b[39m*\u001b[39;49m\u001b[39m*\u001b[39;49mkwargs), exceptions, tries, delay, max_delay, backoff, jitter,\n\u001b[0;32m     91\u001b[0m                         logger, log_traceback, on_exception)\n",
      "File \u001b[1;32md:\\ProgramData\\Anaconda3\\envs\\WebCrawler\\lib\\site-packages\\retry\\api.py:35\u001b[0m, in \u001b[0;36m__retry_internal\u001b[1;34m(f, exceptions, tries, delay, max_delay, backoff, jitter, logger, log_traceback, on_exception)\u001b[0m\n\u001b[0;32m     33\u001b[0m \u001b[39mwhile\u001b[39;00m _tries:\n\u001b[0;32m     34\u001b[0m     \u001b[39mtry\u001b[39;00m:\n\u001b[1;32m---> 35\u001b[0m         \u001b[39mreturn\u001b[39;00m f()\n\u001b[0;32m     36\u001b[0m     \u001b[39mexcept\u001b[39;00m exceptions \u001b[39mas\u001b[39;00m e:\n\u001b[0;32m     37\u001b[0m         \u001b[39mif\u001b[39;00m on_exception \u001b[39mis\u001b[39;00m \u001b[39mnot\u001b[39;00m \u001b[39mNone\u001b[39;00m:\n",
      "Cell \u001b[1;32mIn [3], line 8\u001b[0m, in \u001b[0;36mfunc\u001b[1;34m()\u001b[0m\n\u001b[0;32m      6\u001b[0m \u001b[38;5;129m@retry\u001b[39m(tries\u001b[38;5;241m=\u001b[39m\u001b[38;5;241m3\u001b[39m, logger\u001b[38;5;241m=\u001b[39mlogger)\n\u001b[0;32m      7\u001b[0m \u001b[38;5;28;01mdef\u001b[39;00m \u001b[38;5;21mfunc\u001b[39m():\n\u001b[1;32m----> 8\u001b[0m     \u001b[38;5;28;01mraise\u001b[39;00m \u001b[38;5;167;01mValueError\u001b[39;00m(\u001b[38;5;124m\"\u001b[39m\u001b[38;5;124murl info whatever\u001b[39m\u001b[38;5;124m\"\u001b[39m)\n",
      "\u001b[1;31mValueError\u001b[0m: url info whatever"
     ]
    }
   ],
   "source": [
    "# logging.basicConfig()\n",
    "logger = logging.getLogger(\"myLogger\")\n",
    "set_logger(\"tmp.log\", logger)\n",
    "# tmpcnter = RetryCounter()\n",
    "\n",
    "@retry(tries=3, logger=logger)\n",
    "def func():\n",
    "    raise ValueError(\"url info whatever\")\n",
    "\n",
    "func()\n"
   ]
  },
  {
   "cell_type": "code",
   "execution_count": 4,
   "metadata": {},
   "outputs": [
    {
     "name": "stderr",
     "output_type": "stream",
     "text": [
      "09-12 16:23:36 ValueError: url info whatever2 in __main__.func, retrying in 0 seconds...\n",
      "09-12 16:23:36 ValueError: url info whatever2 in __main__.func, retrying in 0 seconds...\n"
     ]
    },
    {
     "ename": "ValueError",
     "evalue": "url info whatever2",
     "output_type": "error",
     "traceback": [
      "\u001b[1;31m---------------------------------------------------------------------------\u001b[0m",
      "\u001b[1;31mValueError\u001b[0m                                Traceback (most recent call last)",
      "Cell \u001b[1;32mIn [4], line 5\u001b[0m\n\u001b[0;32m      1\u001b[0m \u001b[38;5;129m@retry\u001b[39m(tries\u001b[38;5;241m=\u001b[39m\u001b[38;5;241m3\u001b[39m, logger\u001b[38;5;241m=\u001b[39mlogger)\n\u001b[0;32m      2\u001b[0m \u001b[38;5;28;01mdef\u001b[39;00m \u001b[38;5;21mfunc\u001b[39m():\n\u001b[0;32m      3\u001b[0m     \u001b[38;5;28;01mraise\u001b[39;00m \u001b[38;5;167;01mValueError\u001b[39;00m(\u001b[38;5;124m\"\u001b[39m\u001b[38;5;124murl info whatever2\u001b[39m\u001b[38;5;124m\"\u001b[39m)\n\u001b[1;32m----> 5\u001b[0m \u001b[43mfunc\u001b[49m\u001b[43m(\u001b[49m\u001b[43m)\u001b[49m\n",
      "File \u001b[1;32md:\\ProgramData\\Anaconda3\\envs\\WebCrawler\\lib\\site-packages\\decorator.py:232\u001b[0m, in \u001b[0;36mdecorate.<locals>.fun\u001b[1;34m(*args, **kw)\u001b[0m\n\u001b[0;32m    230\u001b[0m \u001b[39mif\u001b[39;00m \u001b[39mnot\u001b[39;00m kwsyntax:\n\u001b[0;32m    231\u001b[0m     args, kw \u001b[39m=\u001b[39m fix(args, kw, sig)\n\u001b[1;32m--> 232\u001b[0m \u001b[39mreturn\u001b[39;00m caller(func, \u001b[39m*\u001b[39;49m(extras \u001b[39m+\u001b[39;49m args), \u001b[39m*\u001b[39;49m\u001b[39m*\u001b[39;49mkw)\n",
      "File \u001b[1;32md:\\ProgramData\\Anaconda3\\envs\\WebCrawler\\lib\\site-packages\\retry\\api.py:90\u001b[0m, in \u001b[0;36mretry.<locals>.retry_decorator\u001b[1;34m(f, *fargs, **fkwargs)\u001b[0m\n\u001b[0;32m     88\u001b[0m args \u001b[39m=\u001b[39m fargs \u001b[39mif\u001b[39;00m fargs \u001b[39melse\u001b[39;00m \u001b[39mlist\u001b[39m()\n\u001b[0;32m     89\u001b[0m kwargs \u001b[39m=\u001b[39m fkwargs \u001b[39mif\u001b[39;00m fkwargs \u001b[39melse\u001b[39;00m \u001b[39mdict\u001b[39m()\n\u001b[1;32m---> 90\u001b[0m \u001b[39mreturn\u001b[39;00m __retry_internal(partial(f, \u001b[39m*\u001b[39;49margs, \u001b[39m*\u001b[39;49m\u001b[39m*\u001b[39;49mkwargs), exceptions, tries, delay, max_delay, backoff, jitter,\n\u001b[0;32m     91\u001b[0m                         logger, log_traceback, on_exception)\n",
      "File \u001b[1;32md:\\ProgramData\\Anaconda3\\envs\\WebCrawler\\lib\\site-packages\\retry\\api.py:35\u001b[0m, in \u001b[0;36m__retry_internal\u001b[1;34m(f, exceptions, tries, delay, max_delay, backoff, jitter, logger, log_traceback, on_exception)\u001b[0m\n\u001b[0;32m     33\u001b[0m \u001b[39mwhile\u001b[39;00m _tries:\n\u001b[0;32m     34\u001b[0m     \u001b[39mtry\u001b[39;00m:\n\u001b[1;32m---> 35\u001b[0m         \u001b[39mreturn\u001b[39;00m f()\n\u001b[0;32m     36\u001b[0m     \u001b[39mexcept\u001b[39;00m exceptions \u001b[39mas\u001b[39;00m e:\n\u001b[0;32m     37\u001b[0m         \u001b[39mif\u001b[39;00m on_exception \u001b[39mis\u001b[39;00m \u001b[39mnot\u001b[39;00m \u001b[39mNone\u001b[39;00m:\n",
      "Cell \u001b[1;32mIn [4], line 3\u001b[0m, in \u001b[0;36mfunc\u001b[1;34m()\u001b[0m\n\u001b[0;32m      1\u001b[0m \u001b[38;5;129m@retry\u001b[39m(tries\u001b[38;5;241m=\u001b[39m\u001b[38;5;241m3\u001b[39m, logger\u001b[38;5;241m=\u001b[39mlogger)\n\u001b[0;32m      2\u001b[0m \u001b[38;5;28;01mdef\u001b[39;00m \u001b[38;5;21mfunc\u001b[39m():\n\u001b[1;32m----> 3\u001b[0m     \u001b[38;5;28;01mraise\u001b[39;00m \u001b[38;5;167;01mValueError\u001b[39;00m(\u001b[38;5;124m\"\u001b[39m\u001b[38;5;124murl info whatever2\u001b[39m\u001b[38;5;124m\"\u001b[39m)\n",
      "\u001b[1;31mValueError\u001b[0m: url info whatever2"
     ]
    }
   ],
   "source": [
    "@retry(tries=3, logger=logger)\n",
    "def func():\n",
    "    raise ValueError(\"url info whatever2\")\n",
    "\n",
    "func()"
   ]
  },
  {
   "cell_type": "code",
   "execution_count": null,
   "metadata": {},
   "outputs": [],
   "source": [
    "<div class=\"text\" id=\"ch_p\">\n",
    "\t\t        \t<p>2022年1月4日0355时，清远市某运输有限公司、张某强所有的清远籍自卸砂船“天XXXX8”船空载从广州新港开往珠海湾仔航行途中，与覃某新、邓某田所有的涉渔“三无”船在江门荷塘西江大桥下游约400米水域发生碰撞事故。碰撞事故造成涉渔“三无”船沉没，船上2人落水，其中1人获救，1人死亡。按照《水上交通事故统计办法》第六条、第二十九条的分级标准，该事故构成纳入统计的一般等级水上交通事故。<a href=\"https://www.msa.gov.cn/public/documents/document/mdqz/nje1/~edisp/20220525043615193.pdf\" style=\"color: blue;\" target=\"_blank\">江门“1·4”“天XXXX8”船 与涉渔“三无”船碰撞事故调查报告（公开版）.pdf</a><br>\n",
    "&nbsp;</p>\n",
    "\t\t        \t<div class=\"foot_but\">\n",
    "\t\t\t        \t<a href=\"javascript:;\" onclick=\"addFavorite()\">收藏</a><a href=\"#\" class=\"print_btn\" onclick=\"doPrint()\">打印本页</a><a href=\"javascript:;\" onclick=\"closeWindow()\">关闭窗口</a>\n",
    "\t\t        \t</div>\n",
    "\t\t        </div>"
   ]
  },
  {
   "cell_type": "code",
   "execution_count": 1,
   "metadata": {},
   "outputs": [
    {
     "data": {
      "text/plain": [
       "('test.pdf', <http.client.HTTPMessage at 0x21eb3237eb0>)"
      ]
     },
     "execution_count": 1,
     "metadata": {},
     "output_type": "execute_result"
    }
   ],
   "source": [
    "import urllib.request\n",
    "link = \"https://www.msa.gov.cn/public/documents/document/mdqz/otex/~edisp/20220908043911094.pdf\"\n",
    "urllib.request.urlretrieve(link, \"test.pdf\")"
   ]
  },
  {
   "cell_type": "code",
   "execution_count": null,
   "metadata": {},
   "outputs": [],
   "source": []
  },
  {
   "cell_type": "code",
   "execution_count": 3,
   "metadata": {},
   "outputs": [
    {
     "data": {
      "text/plain": [
       "'dir\\\\file.pdf'"
      ]
     },
     "execution_count": 3,
     "metadata": {},
     "output_type": "execute_result"
    }
   ],
   "source": [
    "dir_name = \"dir\"\n",
    "file_name = \"file.pdf\"\n",
    "os.path.join(dir_name, file_name)\n"
   ]
  },
  {
   "cell_type": "code",
   "execution_count": 9,
   "metadata": {},
   "outputs": [
    {
     "data": {
      "text/plain": [
       "'E'"
      ]
     },
     "execution_count": 9,
     "metadata": {},
     "output_type": "execute_result"
    }
   ],
   "source": [
    "chr(ord(\"D\")+1)"
   ]
  },
  {
   "cell_type": "code",
   "execution_count": 5,
   "metadata": {},
   "outputs": [],
   "source": [
    "# open base page\n",
    "option = webdriver.ChromeOptions()\n",
    "# option.add_argument('headless')\n",
    "# driver = webdriver.Chrome(options=option)\n",
    "driver = webdriver.Chrome()\n",
    "base_url = \"https://www.msa.gov.cn/html/hxaq/sgjx/\"\n",
    "driver.get(base_url)"
   ]
  },
  {
   "cell_type": "code",
   "execution_count": 10,
   "metadata": {},
   "outputs": [],
   "source": [
    "all_handles = driver.window_handles\n",
    "driver.switch_to.window(all_handles[1])"
   ]
  },
  {
   "cell_type": "code",
   "execution_count": 11,
   "metadata": {},
   "outputs": [],
   "source": [
    "driver.close()"
   ]
  },
  {
   "cell_type": "code",
   "execution_count": 13,
   "metadata": {},
   "outputs": [],
   "source": [
    "all_handles = driver.window_handles"
   ]
  },
  {
   "cell_type": "code",
   "execution_count": 14,
   "metadata": {},
   "outputs": [
    {
     "data": {
      "text/plain": [
       "['CDwindow-2956062AD504FFDFB6A3D796BD4349CC']"
      ]
     },
     "execution_count": 14,
     "metadata": {},
     "output_type": "execute_result"
    }
   ],
   "source": [
    "all_handles"
   ]
  },
  {
   "cell_type": "code",
   "execution_count": 16,
   "metadata": {},
   "outputs": [
    {
     "name": "stdout",
     "output_type": "stream",
     "text": [
      "航行安全 - 中华人民共和国海事局\n"
     ]
    }
   ],
   "source": [
    "driver.switch_to.window(all_handles[0])\n",
    "print(driver.title)"
   ]
  },
  {
   "cell_type": "markdown",
   "metadata": {},
   "source": []
  },
  {
   "cell_type": "code",
   "execution_count": null,
   "metadata": {},
   "outputs": [],
   "source": []
  },
  {
   "cell_type": "code",
   "execution_count": 1,
   "metadata": {},
   "outputs": [
    {
     "ename": "NameError",
     "evalue": "name 'driver' is not defined",
     "output_type": "error",
     "traceback": [
      "\u001b[1;31m---------------------------------------------------------------------------\u001b[0m",
      "\u001b[1;31mNameError\u001b[0m                                 Traceback (most recent call last)",
      "Cell \u001b[1;32mIn [1], line 1\u001b[0m\n\u001b[1;32m----> 1\u001b[0m \u001b[38;5;28mprint\u001b[39m(\u001b[43mdriver\u001b[49m\u001b[38;5;241m.\u001b[39mname)\n",
      "\u001b[1;31mNameError\u001b[0m: name 'driver' is not defined"
     ]
    }
   ],
   "source": [
    "print(driver.name)"
   ]
  },
  {
   "cell_type": "code",
   "execution_count": 15,
   "metadata": {},
   "outputs": [
    {
     "data": {
      "text/plain": [
       "'20220908043911094.pdf'"
      ]
     },
     "execution_count": 15,
     "metadata": {},
     "output_type": "execute_result"
    }
   ],
   "source": [
    "import re\n",
    "text = \"https://www.msa.gov.cn/public/documents/document/mdqz/otex/~edisp/20220908043911094.pdf\"\n",
    "regex = r\"[^/]+(?!.*/)\"\n",
    "regex = re.compile(regex)\n",
    "re.search(regex, text).group()"
   ]
  },
  {
   "cell_type": "code",
   "execution_count": 17,
   "metadata": {},
   "outputs": [],
   "source": [
    "from selenium import webdriver\n",
    "# open base page\n",
    "option = webdriver.ChromeOptions()\n",
    "# option.add_argument('headless')\n",
    "# driver = webdriver.Chrome(options=option)\n",
    "driver = webdriver.Chrome()\n",
    "base_url = \"https://www.msa.gov.cn/html/hxaq/sgjx/\"\n",
    "driver.get(base_url)"
   ]
  },
  {
   "cell_type": "code",
   "execution_count": 21,
   "metadata": {},
   "outputs": [
    {
     "data": {
      "text/plain": [
       "'1'"
      ]
     },
     "execution_count": 21,
     "metadata": {},
     "output_type": "execute_result"
    },
    {
     "ename": "",
     "evalue": "",
     "output_type": "error",
     "traceback": [
      "The Kernel crashed while executing code in the the current cell or a previous cell. Please review the code in the cell(s) to identify a possible cause of the failure. Click <a href='https://aka.ms/vscodeJupyterKernelCrash'>here</a> for more info. View Jupyter <a href='command:jupyter.viewOutput'>log</a> for further details."
     ]
    }
   ],
   "source": [
    "from selenium.webdriver.common.by import By\n",
    "last_slt = \"#articleList > div > a.last\"\n",
    "total = driver.find_element(By.CSS_SELECTOR, last_slt).get_attribute(\"total\")\n",
    "cnt\n",
    "active_slt = \"#articleList > div > a.active\"\n",
    "active = driver.find_element(By.CSS_SELECTOR, active_slt).get_attribute(\"innerHTML\")\n",
    "active"
   ]
  },
  {
   "cell_type": "code",
   "execution_count": 3,
   "metadata": {},
   "outputs": [],
   "source": [
    "def get_keyword_regex(word_list):\n",
    "    res = list()\n",
    "    if not word_list:\n",
    "        raise ValueError\n",
    "    for word in word_list:\n",
    "        if not word:\n",
    "            continue\n",
    "        res.append(f\"{word}|\")\n",
    "\n",
    "    return \"\".join(res)[:-1]\n",
    "\n",
    "# keword settings\n",
    "word_list = [\n",
    "    \"起火\",\n",
    "    \"火灾\",\n",
    "    \"燃烧\",\n",
    "    \"闪燃\",\n",
    "    \"着火\",\n",
    "    \"自燃\",\n",
    "    \"爆燃\",\n",
    "    \"爆炸\",\n",
    "    \"溢油\",\n",
    "    \"渗漏\",\n",
    "    \"泄漏\",\n",
    "    \"外漏\",\n",
    "    \"外溢\",\n",
    "    \"外泄\",\n",
    "    \"污染\",\n",
    "]\n",
    "\n",
    "res = get_keyword_regex(word_list)"
   ]
  },
  {
   "cell_type": "code",
   "execution_count": 8,
   "metadata": {},
   "outputs": [
    {
     "name": "stderr",
     "output_type": "stream",
     "text": [
      "WARNING:root:Traceback (most recent call last):\n",
      "  File \"C:\\Users\\chen_\\AppData\\Local\\Temp\\ipykernel_78252\\1842225033.py\", line 5, in <module>\n",
      "    raise ValueError(\"agasd\")\n",
      "ValueError: agasd\n",
      "\n"
     ]
    }
   ],
   "source": [
    "import traceback\n",
    "import logging\n",
    "logging.basicConfig()\n",
    "try:\n",
    "    raise ValueError(\"agasd\")\n",
    "except Exception as e:\n",
    "    logging.warning(traceback.format_exc())"
   ]
  },
  {
   "cell_type": "code",
   "execution_count": 4,
   "metadata": {},
   "outputs": [
    {
     "data": {
      "text/plain": [
       "'起火|火灾|燃烧|闪燃|着火|自燃|爆燃|爆炸|溢油|渗漏|泄漏|外漏|外溢|外泄|污染'"
      ]
     },
     "execution_count": 4,
     "metadata": {},
     "output_type": "execute_result"
    }
   ],
   "source": [
    "res"
   ]
  },
  {
   "cell_type": "code",
   "execution_count": 13,
   "metadata": {},
   "outputs": [
    {
     "name": "stdout",
     "output_type": "stream",
     "text": [
      "200\n"
     ]
    }
   ],
   "source": [
    "import urllib.request\n",
    "import requests\n",
    "def get_status(url):\n",
    "    res = requests.get(url)\n",
    "    return res.status_code\n",
    "url=\"https://www.msa.gov.cn/html/hxaq/sgjx/\"\n",
    "url = \"https://www.baidu.com\"\n",
    "print(get_status(url))"
   ]
  },
  {
   "cell_type": "code",
   "execution_count": 10,
   "metadata": {},
   "outputs": [],
   "source": [
    "import xlwings as xw\n",
    "tmpxl_path = \"data/result_all_old.xlsx\"\n",
    "tmpxl_path = \"data/test.xlsx\"\n",
    "app = xw.App(visible=False, add_book=False)  # or something like xw.apps[10559] for existing apps, get the available PIDs via xw.apps.keys()\n",
    "\n",
    "if os.path.exists(tmpxl_path):\n",
    "    wb = app.books.open(tmpxl_path)\n",
    "    sht = wb.sheets[0]\n",
    "else:\n",
    "    wb=app.books.add()\n",
    "    #创建一个sheet工作表\n",
    "    sht=wb.sheets['sheet1']\n",
    "    # content\n",
    "    # xl_all = list()\n",
    "    xl_header = [\"标题\",\"id\",\"url\",\"本地链接\",\"\",\"\",\"关键词上下文\"]\n",
    "    # xl_all.append(xl_header)\n",
    "    # write to xl and save\n",
    "    sht.range('A1').value = xl_header\n",
    "    wb.save(tmpxl_path)"
   ]
  },
  {
   "cell_type": "code",
   "execution_count": 11,
   "metadata": {},
   "outputs": [],
   "source": [
    "sht = wb.sheets[0]"
   ]
  },
  {
   "cell_type": "code",
   "execution_count": 13,
   "metadata": {},
   "outputs": [
    {
     "data": {
      "text/plain": [
       "2"
      ]
     },
     "execution_count": 13,
     "metadata": {},
     "output_type": "execute_result"
    }
   ],
   "source": [
    "cur_row = sht.used_range.last_cell.row + 1\n",
    "cur_row"
   ]
  },
  {
   "cell_type": "code",
   "execution_count": 14,
   "metadata": {},
   "outputs": [],
   "source": [
    "sht.range(f\"A{cur_row}\").value = \"new\""
   ]
  },
  {
   "cell_type": "code",
   "execution_count": 15,
   "metadata": {},
   "outputs": [],
   "source": [
    "wb.save(tmpxl_path)"
   ]
  },
  {
   "cell_type": "code",
   "execution_count": 16,
   "metadata": {},
   "outputs": [],
   "source": [
    "app.quit()"
   ]
  },
  {
   "cell_type": "code",
   "execution_count": 4,
   "metadata": {},
   "outputs": [],
   "source": [
    "from selenium import webdriver\n",
    "from selenium.webdriver.common.by import By\n",
    "# open base page\n",
    "option = webdriver.ChromeOptions()\n",
    "# option.add_argument('headless')\n",
    "# driver = webdriver.Chrome(options=option)\n",
    "driver = webdriver.Chrome()\n",
    "base_url = \"https://www.msa.gov.cn/html/hxaq/sgjx/\"\n",
    "driver.get(base_url)\n",
    "\n",
    "# 创建action对象\n",
    "action = webdriver.ActionChains(driver)\n",
    "# action = ActionChains(driver)\n",
    "\n"
   ]
  },
  {
   "cell_type": "code",
   "execution_count": 10,
   "metadata": {},
   "outputs": [],
   "source": [
    "driver.find_element(By.CSS_SELECTOR, \"#pagInput\").click()\n",
    "# 对当前元素做输入\n",
    "action.send_keys(\"21\")\n",
    "# 执行操作\n",
    "\n",
    "action.perform()"
   ]
  },
  {
   "cell_type": "code",
   "execution_count": 8,
   "metadata": {},
   "outputs": [],
   "source": [
    "bt_slt = "
   ]
  },
  {
   "cell_type": "code",
   "execution_count": 11,
   "metadata": {},
   "outputs": [],
   "source": [
    "driver.find_element(By.CSS_SELECTOR, \"#articleList > div > input.btn.btn-fault\").click()"
   ]
  },
  {
   "cell_type": "code",
   "execution_count": 12,
   "metadata": {},
   "outputs": [],
   "source": [
    "driver.refresh()"
   ]
  },
  {
   "cell_type": "code",
   "execution_count": 15,
   "metadata": {},
   "outputs": [
    {
     "name": "stdout",
     "output_type": "stream",
     "text": [
      "False\n"
     ]
    }
   ],
   "source": [
    "textarea_slt = \"body > div.c970 > div.con_wen > div:nth-child(3) > div.con_pl > textarea\"\n",
    "import re\n",
    "class WordMatcher:\n",
    "    def __init__(self, regex, context_expand = 8, exclude_chars = '\\t\\r\\n') -> None:\n",
    "        self.regex = regex\n",
    "        self.context_expand = context_expand\n",
    "        self.exclude_chars = exclude_chars\n",
    "        pass\n",
    "\n",
    "    def get_all_context(self, text):\n",
    "        context_list = list()\n",
    "        all_matches = re.finditer(self.regex, text)\n",
    "        text_length = len(text)\n",
    "        for match_elem in all_matches:\n",
    "            context = text[max(match_elem.start()-self.context_expand, 0):min(match_elem.end()+self.context_expand, text_length)]\n",
    "            if self.exclude_chars is not None:\n",
    "                for ch in self.exclude_chars:\n",
    "                    context = context.replace(ch, \"\")\n",
    "            context_list.append(context)\n",
    "        return context_list\n",
    "\n",
    "def get_keyword_regex(word_list):\n",
    "    res = list()\n",
    "    if not word_list:\n",
    "        raise ValueError\n",
    "    for word in word_list:\n",
    "        if not word:\n",
    "            continue\n",
    "        res.append(f\"{word}|\")\n",
    "\n",
    "    return \"\".join(res)[:-1]\n",
    "\n",
    "if __name__ == \"__main__\":\n",
    "    word_list = [\n",
    "    \"起火\",\n",
    "    \"火灾\",\n",
    "    \"燃烧\",\n",
    "    \"闪燃\",\n",
    "    \"着火\",\n",
    "    \"自燃\",\n",
    "    \"爆燃\",\n",
    "    \"爆炸\",\n",
    "    \"溢油\",\n",
    "    \"渗漏\",\n",
    "    \"泄漏\",\n",
    "    \"外漏\",\n",
    "    \"外溢\",\n",
    "    \"外泄\",\n",
    "    ]\n",
    "    regex = get_keyword_regex(word_list)\n",
    "    matcher = WordMatcher(regex)\n",
    "    text = \"sdfsasd\"\n",
    "    res = matcher.get_all_context(text)\n",
    "    print()"
   ]
  },
  {
   "cell_type": "code",
   "execution_count": 6,
   "metadata": {},
   "outputs": [
    {
     "data": {
      "text/plain": [
       "['CDwindow-3C2B734F7A8710D891FEA8B463811E94']"
      ]
     },
     "execution_count": 6,
     "metadata": {},
     "output_type": "execute_result"
    }
   ],
   "source": [
    "from selenium import webdriver\n",
    "from selenium.webdriver.common.by import By\n",
    "# open base page\n",
    "option = webdriver.ChromeOptions()\n",
    "# option.add_argument('headless')\n",
    "# driver = webdriver.Chrome(options=option)\n",
    "driver = webdriver.Chrome()\n",
    "base_url = \"https://www.baidu.com\"\n",
    "driver.get(base_url)\n",
    "driver.get(\"http://www.safehoo.com/Case/Case/Blaze/\")\n",
    "\n",
    "driver.window_handles\n"
   ]
  },
  {
   "cell_type": "code",
   "execution_count": 8,
   "metadata": {},
   "outputs": [
    {
     "data": {
      "text/plain": [
       "'<span class=\"mor\"><font color=\"red\">08-31</font></span><img src=\"/images/common9.gif\">\\n                            [   文档]\\n            <a href=\"/Case/Case/Blaze/202208/5682147.shtml\" target=\"_blank\" title=\"标题：湛江“8•6”“鑫华祥”轮火灾事故调查报告\\r点击数：1\\r发表时间：22年08月31日\">湛江“8•6”“鑫华祥”轮火灾事故调查报告</a>'"
      ]
     },
     "execution_count": 8,
     "metadata": {},
     "output_type": "execute_result"
    }
   ],
   "source": [
    "driver.find_element(By.CSS_SELECTOR, \"body > div.c970 > div.lm2_k650 > div.childclass_content > li:nth-child(1)\").get_attribute(\"innerHTML\")"
   ]
  },
  {
   "cell_type": "code",
   "execution_count": 9,
   "metadata": {},
   "outputs": [],
   "source": [
    "driver.find_element(By.CSS_SELECTOR, \"body > div.c970 > div.lm2_k650 > div.childclass_content > li:nth-child(1)\").click()"
   ]
  }
 ],
 "metadata": {
  "kernelspec": {
   "display_name": "Python 3.8.13 ('WebCrawler')",
   "language": "python",
   "name": "python3"
  },
  "language_info": {
   "codemirror_mode": {
    "name": "ipython",
    "version": 3
   },
   "file_extension": ".py",
   "mimetype": "text/x-python",
   "name": "python",
   "nbconvert_exporter": "python",
   "pygments_lexer": "ipython3",
   "version": "3.8.13"
  },
  "orig_nbformat": 4,
  "vscode": {
   "interpreter": {
    "hash": "396b23130a3b0a8ca1cd5d689c2c677be91615319589445406dfa932efd65263"
   }
  }
 },
 "nbformat": 4,
 "nbformat_minor": 2
}
